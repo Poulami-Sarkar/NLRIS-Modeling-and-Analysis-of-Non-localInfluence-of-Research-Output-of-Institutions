{
 "cells": [
  {
   "cell_type": "code",
   "execution_count": 44,
   "id": "democratic-tobago",
   "metadata": {},
   "outputs": [],
   "source": [
    "import os\n",
    "import pandas as pd\n",
    "import matplotlib.pyplot as  plt\n",
    "import re\n",
    "import numpy as np\n",
    "from scipy.stats import norm\n",
    "import statistics\n",
    "import seaborn as sns"
   ]
  },
  {
   "cell_type": "code",
   "execution_count": 13,
   "id": "clinical-computer",
   "metadata": {},
   "outputs": [],
   "source": [
    "base_dir = 'NLIQ_yearwise/'\n",
    "folders = os.listdir(base_dir)"
   ]
  },
  {
   "cell_type": "code",
   "execution_count": 14,
   "id": "deadly-wildlife",
   "metadata": {},
   "outputs": [
    {
     "data": {
      "text/plain": [
       "{'University of Helsinki': 'FINLAND',\n",
       " 'University of Gothenburg': 'SWEDEN',\n",
       " 'Hanoi University of Science _ Technology': 'VIETNAM'}"
      ]
     },
     "execution_count": 14,
     "metadata": {},
     "output_type": "execute_result"
    }
   ],
   "source": [
    "\n",
    "country_map ={folders[1]:'FINLAND',folders[2]:'SWEDEN',folders[3]:'VIETNAM'}\n",
    "country_map\n"
   ]
  },
  {
   "cell_type": "markdown",
   "id": "intimate-challenge",
   "metadata": {},
   "source": [
    "# Calculate NLIQ"
   ]
  },
  {
   "cell_type": "code",
   "execution_count": 15,
   "id": "assured-export",
   "metadata": {
    "scrolled": true
   },
   "outputs": [
    {
     "name": "stdout",
     "output_type": "stream",
     "text": [
      "st University of Helsinki (0 Countries/Regions value(s) outside display options.)\t\t\n",
      "10 3 2012\n",
      "\n",
      "st University of Helsinki (12 Countries/Regions value(s) outside display options.)\t\t\n",
      "155 31 2013\n",
      "\n",
      "st University of Helsinki (30 Countries/Regions value(s) outside display options.)\t\t\n",
      "522 102 2014\n",
      "\n",
      "st University of Helsinki (32 Countries/Regions value(s) outside display options.)\t\t\n",
      "973 161 2015\n",
      "\n",
      "st University of Helsinki (44 Countries/Regions value(s) outside display options.)\t\t\n",
      "1555 222 2016\n",
      "\n",
      "st University of Helsinki (46 Countries/Regions value(s) outside display options.)\t\t\n",
      "2170 269 2017\n",
      "\n",
      "st University of Helsinki (53 Countries/Regions value(s) outside display options.)\t\t\n",
      "2785 315 2018\n",
      "\n",
      "st University of Helsinki (51 Countries/Regions value(s) outside display options.)\t\t\n",
      "3405 363 2019\n",
      "\n",
      "st University of Gothenburg (0 Countries/Regions value(s) outside display options.)\t\t\n",
      "12 1 2012\n",
      "\n",
      "st University of Gothenburg (2 Countries/Regions value(s) outside display options.)\t\t\n",
      "81 13 2013\n",
      "\n",
      "st University of Gothenburg (5 Countries/Regions value(s) outside display options.)\t\t\n",
      "163 27 2014\n",
      "\n",
      "st University of Gothenburg (15 Countries/Regions value(s) outside display options.)\t\t\n",
      "301 44 2015\n",
      "\n",
      "st University of Gothenburg (17 Countries/Regions value(s) outside display options.)\t\t\n",
      "460 62 2016\n",
      "\n",
      "st University of Gothenburg (14 Countries/Regions value(s) outside display options.)\t\t\n",
      "601 73 2017\n",
      "\n",
      "st University of Gothenburg (11 Countries/Regions value(s) outside display options.)\t\t\n",
      "772 82 2018\n",
      "\n",
      "st University of Gothenburg (19 Countries/Regions value(s) outside display options.)\t\t\n",
      "995 89 2019\n",
      "\n",
      "st Hanoi University of Science _ Technology (0 Countries/Regions value(s) outside display options.)\t\t\n",
      "4 1 2012\n",
      "\n",
      "st Hanoi University of Science _ Technology (0 Countries/Regions value(s) outside display options.)\t\t\n",
      "15 1 2013\n",
      "\n",
      "st Hanoi University of Science _ Technology (0 Countries/Regions value(s) outside display options.)\t\t\n",
      "34 1 2014\n",
      "\n",
      "st Hanoi University of Science _ Technology (0 Countries/Regions value(s) outside display options.)\t\t\n",
      "74 3 2015\n",
      "\n",
      "st Hanoi University of Science _ Technology (0 Countries/Regions value(s) outside display options.)\t\t\n",
      "108 6 2016\n",
      "\n",
      "st Hanoi University of Science _ Technology (0 Countries/Regions value(s) outside display options.)\t\t\n",
      "131 7 2017\n",
      "\n",
      "st Hanoi University of Science _ Technology (0 Countries/Regions value(s) outside display options.)\t\t\n",
      "173 8 2018\n",
      "\n",
      "st Hanoi University of Science _ Technology (0 Countries/Regions value(s) outside display options.)\t\t\n",
      "199 9 2019\n",
      "\n"
     ]
    }
   ],
   "source": [
    "cnt = 0 \n",
    "d = {}\n",
    "df = pd.DataFrame()\n",
    "\n",
    "for i in folders[1:]:\n",
    "    files = os.listdir(base_dir+i)\n",
    "    files.sort()\n",
    "    gl_cites = 0\n",
    "    lo_cites = 0\n",
    "    for j in files:\n",
    "        cnt+=1\n",
    "        path = base_dir+i+'/'+j\n",
    "        with open(path, encoding=\"utf-16\", errors='ignore') as f:\n",
    "          contents = f.read()\n",
    "        lines = contents.split('\\n')\n",
    "        print(\"st\",i,lines[-3])\n",
    "\n",
    "        for k in range(len(lines))[1:]:\n",
    "            if 'display options' in lines[k]:\n",
    "                break\n",
    "            arr = lines[k].split('\\t')\n",
    "            if arr[0] == country_map[i]: \n",
    "                #print(\"11\",arr,int(arr[1]))\n",
    "                lo_cites += int(arr[1])\n",
    "            else:\n",
    "                gl_cites += int(arr[1])\n",
    "        \n",
    "        d = {\n",
    "                'NLIQ': float(lo_cites)/float(gl_cites),\n",
    "                'total_cites': int(lo_cites) + int(gl_cites),\n",
    "                'local_cites':int(lo_cites),\n",
    "                'global_cites':int(gl_cites),\n",
    "                'file': i,\n",
    "                'year': int(re.search('\\d{4}',j).group(0)),\n",
    "        }\n",
    "        df = df.append(d,ignore_index=True)\n",
    "        print(gl_cites,lo_cites,int(re.search('\\d{4}',j).group(0)))\n",
    "        print()"
   ]
  },
  {
   "cell_type": "code",
   "execution_count": 33,
   "id": "virtual-isaac",
   "metadata": {},
   "outputs": [],
   "source": [
    "df.to_csv('results/yearwise_nliq.csv', index=False)"
   ]
  },
  {
   "cell_type": "markdown",
   "id": "prostate-wallace",
   "metadata": {},
   "source": [
    "#  Plot timeseries NLIQ of 3 universities"
   ]
  },
  {
   "cell_type": "code",
   "execution_count": 57,
   "id": "respiratory-miami",
   "metadata": {
    "scrolled": false
   },
   "outputs": [
    {
     "name": "stdout",
     "output_type": "stream",
     "text": [
      "University of Helsinki\n",
      "University of Gothenburg\n",
      "Hanoi University of Science _ Technology\n"
     ]
    }
   ],
   "source": [
    "for uni in country_map:\n",
    "    print(uni)\n",
    "    t = df[df['file'] == uni].sort_values(by='year',ascending=True)\n",
    "    # Plot between -10 and 10 with .001 steps.\n",
    "    x_axis = np.log10(t['NLIQ'])\n",
    "    # Calculating mean and standard deviation\n",
    "    mean = statistics.mean(x_axis)\n",
    "    sd = statistics.stdev(x_axis)\n",
    "    \n",
    "    sns.displot(x_axis, kind=\"kde\", fill=True)\n",
    "    #plt.plot(x_axis, norm.pdf(x_axis, mean, sd))\n",
    "    plt.savefig('graphs/Yearwise_timeseries_NLIQ/2'+uni+'.jpg')\n",
    "\n",
    "\n",
    "    plt.close()\n",
    "    #break"
   ]
  },
  {
   "cell_type": "markdown",
   "id": "stopped-parcel",
   "metadata": {},
   "source": [
    "# Plot NLIQ VS total citations"
   ]
  },
  {
   "cell_type": "code",
   "execution_count": 30,
   "id": "tribal-austria",
   "metadata": {},
   "outputs": [
    {
     "name": "stdout",
     "output_type": "stream",
     "text": [
      "University of Helsinki\n",
      "University of Gothenburg\n",
      "Hanoi University of Science _ Technology\n"
     ]
    }
   ],
   "source": [
    "for uni in country_map:\n",
    "    t = df[df['file'] == uni].sort_values(by='year',ascending=True)\n",
    "    print(uni)\n",
    "    plt.scatter(np.log10(t['NLIQ']),np.log10(t['total_cites']))\n",
    "    plt.plot(np.log10(t['NLIQ']),np.log10(t['total_cites']))\n",
    "    plt.ylabel('total cites')\n",
    "    plt.xlabel('NLIQ')\n",
    "    plt.title('Plot of total cites VS NLIQ')\n",
    "    plt.savefig('graphs/NLIQ_VS_totalcites/nliqVScites'+uni+'.jpg')\n",
    "    plt.close()\n",
    "    #break"
   ]
  },
  {
   "cell_type": "code",
   "execution_count": 144,
   "id": "scheduled-explorer",
   "metadata": {},
   "outputs": [
    {
     "data": {
      "text/html": [
       "<div>\n",
       "<style scoped>\n",
       "    .dataframe tbody tr th:only-of-type {\n",
       "        vertical-align: middle;\n",
       "    }\n",
       "\n",
       "    .dataframe tbody tr th {\n",
       "        vertical-align: top;\n",
       "    }\n",
       "\n",
       "    .dataframe thead th {\n",
       "        text-align: right;\n",
       "    }\n",
       "</style>\n",
       "<table border=\"1\" class=\"dataframe\">\n",
       "  <thead>\n",
       "    <tr style=\"text-align: right;\">\n",
       "      <th></th>\n",
       "      <th>NLIQ</th>\n",
       "      <th>file</th>\n",
       "      <th>global_cites</th>\n",
       "      <th>local_cites</th>\n",
       "      <th>total_cites</th>\n",
       "      <th>year</th>\n",
       "    </tr>\n",
       "  </thead>\n",
       "  <tbody>\n",
       "    <tr>\n",
       "      <th>0</th>\n",
       "      <td>0.300000</td>\n",
       "      <td>University of Helsinki</td>\n",
       "      <td>10.0</td>\n",
       "      <td>3.0</td>\n",
       "      <td>13.0</td>\n",
       "      <td>2012.0</td>\n",
       "    </tr>\n",
       "    <tr>\n",
       "      <th>1</th>\n",
       "      <td>0.200000</td>\n",
       "      <td>University of Helsinki</td>\n",
       "      <td>155.0</td>\n",
       "      <td>31.0</td>\n",
       "      <td>186.0</td>\n",
       "      <td>2013.0</td>\n",
       "    </tr>\n",
       "    <tr>\n",
       "      <th>4</th>\n",
       "      <td>0.122164</td>\n",
       "      <td>University of Helsinki</td>\n",
       "      <td>1719.0</td>\n",
       "      <td>210.0</td>\n",
       "      <td>1929.0</td>\n",
       "      <td>2014.0</td>\n",
       "    </tr>\n",
       "    <tr>\n",
       "      <th>5</th>\n",
       "      <td>0.123963</td>\n",
       "      <td>University of Helsinki</td>\n",
       "      <td>2170.0</td>\n",
       "      <td>269.0</td>\n",
       "      <td>2439.0</td>\n",
       "      <td>2015.0</td>\n",
       "    </tr>\n",
       "    <tr>\n",
       "      <th>3</th>\n",
       "      <td>0.102811</td>\n",
       "      <td>University of Helsinki</td>\n",
       "      <td>1352.0</td>\n",
       "      <td>139.0</td>\n",
       "      <td>1491.0</td>\n",
       "      <td>2016.0</td>\n",
       "    </tr>\n",
       "    <tr>\n",
       "      <th>2</th>\n",
       "      <td>0.101299</td>\n",
       "      <td>University of Helsinki</td>\n",
       "      <td>770.0</td>\n",
       "      <td>78.0</td>\n",
       "      <td>848.0</td>\n",
       "      <td>2017.0</td>\n",
       "    </tr>\n",
       "    <tr>\n",
       "      <th>6</th>\n",
       "      <td>0.113106</td>\n",
       "      <td>University of Helsinki</td>\n",
       "      <td>2785.0</td>\n",
       "      <td>315.0</td>\n",
       "      <td>3100.0</td>\n",
       "      <td>2018.0</td>\n",
       "    </tr>\n",
       "    <tr>\n",
       "      <th>7</th>\n",
       "      <td>0.106608</td>\n",
       "      <td>University of Helsinki</td>\n",
       "      <td>3405.0</td>\n",
       "      <td>363.0</td>\n",
       "      <td>3768.0</td>\n",
       "      <td>2019.0</td>\n",
       "    </tr>\n",
       "  </tbody>\n",
       "</table>\n",
       "</div>"
      ],
      "text/plain": [
       "       NLIQ                    file  global_cites  local_cites  total_cites  \\\n",
       "0  0.300000  University of Helsinki          10.0          3.0         13.0   \n",
       "1  0.200000  University of Helsinki         155.0         31.0        186.0   \n",
       "4  0.122164  University of Helsinki        1719.0        210.0       1929.0   \n",
       "5  0.123963  University of Helsinki        2170.0        269.0       2439.0   \n",
       "3  0.102811  University of Helsinki        1352.0        139.0       1491.0   \n",
       "2  0.101299  University of Helsinki         770.0         78.0        848.0   \n",
       "6  0.113106  University of Helsinki        2785.0        315.0       3100.0   \n",
       "7  0.106608  University of Helsinki        3405.0        363.0       3768.0   \n",
       "\n",
       "     year  \n",
       "0  2012.0  \n",
       "1  2013.0  \n",
       "4  2014.0  \n",
       "5  2015.0  \n",
       "3  2016.0  \n",
       "2  2017.0  \n",
       "6  2018.0  \n",
       "7  2019.0  "
      ]
     },
     "execution_count": 144,
     "metadata": {},
     "output_type": "execute_result"
    }
   ],
   "source": []
  },
  {
   "cell_type": "code",
   "execution_count": 38,
   "id": "automatic-municipality",
   "metadata": {},
   "outputs": [
    {
     "data": {
      "text/plain": [
       "array([-20.  , -19.99, -19.98, ...,  19.97,  19.98,  19.99])"
      ]
     },
     "execution_count": 38,
     "metadata": {},
     "output_type": "execute_result"
    }
   ],
   "source": [
    "x_axis = np.arange(-20, 20, 0.01)\n",
    "x_axis"
   ]
  },
  {
   "cell_type": "code",
   "execution_count": null,
   "id": "previous-sunset",
   "metadata": {},
   "outputs": [],
   "source": []
  }
 ],
 "metadata": {
  "kernelspec": {
   "display_name": "Python 3",
   "language": "python",
   "name": "python3"
  },
  "language_info": {
   "codemirror_mode": {
    "name": "ipython",
    "version": 3
   },
   "file_extension": ".py",
   "mimetype": "text/x-python",
   "name": "python",
   "nbconvert_exporter": "python",
   "pygments_lexer": "ipython3",
   "version": "3.8.5"
  }
 },
 "nbformat": 4,
 "nbformat_minor": 5
}
